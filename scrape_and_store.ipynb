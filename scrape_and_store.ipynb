{
 "cells": [
  {
   "cell_type": "code",
   "execution_count": 1,
   "id": "a38ac316",
   "metadata": {},
   "outputs": [
    {
     "name": "stdout",
     "output_type": "stream",
     "text": [
      "Data saved to sqlite database 'pokemon_data.db' in the table 'pokemon_table'\n"
     ]
    }
   ],
   "source": [
    "import requests\n",
    "from bs4 import BeautifulSoup\n",
    "import pandas as pd\n",
    "import sqlite3\n",
    "\n",
    "\n",
    "url = 'https://pokemondb.net/pokedex/all?fbclid=IwZXh0bgNhZW0CMTAAAR2T9ZAhkwwV03h5xcWuMRC64vEtJQAgOVUx0WRY_D6O8z3c1MF-bQhuT3E_aem_61HhQO2QUVzk1JU5DpOyUA'\n",
    "response = requests.get(url)\n",
    "\n",
    "# Check if the request was successful\n",
    "if response.status_code == 200:\n",
    "    soup = BeautifulSoup(response.text, 'html.parser')\n",
    "    \n",
    "    # Find the table in the HTML\n",
    "    table = soup.find('table')\n",
    "\n",
    "    # Extract the table headers\n",
    "    headers = [header.text.strip() for header in table.find_all('th')]\n",
    "\n",
    "    # Extract the rows\n",
    "    rows = []\n",
    "    for row in table.find_all('tr')[1:]:\n",
    "        cells = row.find_all('td')\n",
    "        cells = [cell.text.strip() for cell in cells]\n",
    "        rows.append(cells)\n",
    "\n",
    "    # Create a DataFrame\n",
    "    df = pd.DataFrame(rows, columns=headers)\n",
    "\n",
    "     # Connect to SQLite database (or create it if it doesn't exist)\n",
    "    conn = sqlite3.connect('pokemon_data.db')\n",
    "\n",
    "    # Save DataFrame to SQLite database\n",
    "    df.to_sql('pokemon_table', conn, if_exists='replace', index=False)\n",
    "\n",
    "    # Close the database connection\n",
    "    conn.close()\n",
    "\n",
    "    print(\"Data saved to sqlite database 'pokemon_data.db' in the table 'pokemon_table'\")\n",
    "else:\n",
    "    print(f\"Failed to retrieve the webpage. Status code: {response.status_code}\")"
   ]
  },
  {
   "cell_type": "code",
   "execution_count": null,
   "id": "d1769791",
   "metadata": {},
   "outputs": [],
   "source": []
  }
 ],
 "metadata": {
  "kernelspec": {
   "display_name": "Python 3 (ipykernel)",
   "language": "python",
   "name": "python3"
  },
  "language_info": {
   "codemirror_mode": {
    "name": "ipython",
    "version": 3
   },
   "file_extension": ".py",
   "mimetype": "text/x-python",
   "name": "python",
   "nbconvert_exporter": "python",
   "pygments_lexer": "ipython3",
   "version": "3.11.3"
  }
 },
 "nbformat": 4,
 "nbformat_minor": 5
}
