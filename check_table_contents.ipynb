{
 "cells": [
  {
   "cell_type": "code",
   "execution_count": 2,
   "id": "553fe8f6",
   "metadata": {},
   "outputs": [
    {
     "name": "stdout",
     "output_type": "stream",
     "text": [
      "         #                     Name           Type Total   HP Attack Defense  \\\n",
      "0     0001                Bulbasaur   Grass Poison   318   45     49      49   \n",
      "1     0002                  Ivysaur   Grass Poison   405   60     62      63   \n",
      "2     0003                 Venusaur   Grass Poison   525   80     82      83   \n",
      "3     0003   Venusaur Mega Venusaur   Grass Poison   625   80    100     123   \n",
      "4     0004               Charmander           Fire   309   39     52      43   \n",
      "...    ...                      ...            ...   ...  ...    ...     ...   \n",
      "1210  1023               Iron Crown  Steel Psychic   590   90     72     100   \n",
      "1211  1024    Terapagos Normal Form         Normal   450   90     65      85   \n",
      "1212  1024  Terapagos Terastal Form         Normal   600   95     95     110   \n",
      "1213  1024   Terapagos Stellar Form         Normal   700  160    105     110   \n",
      "1214  1025                Pecharunt   Poison Ghost   600   88     88     160   \n",
      "\n",
      "     Sp. Atk Sp. Def Speed  \n",
      "0         65      65    45  \n",
      "1         80      80    60  \n",
      "2        100     100    80  \n",
      "3        122     120    80  \n",
      "4         60      50    65  \n",
      "...      ...     ...   ...  \n",
      "1210     122     108    98  \n",
      "1211      65      85    60  \n",
      "1212     105     110    85  \n",
      "1213     130     110    85  \n",
      "1214      88      88    88  \n",
      "\n",
      "[1215 rows x 10 columns]\n"
     ]
    }
   ],
   "source": [
    "import pandas as pd\n",
    "import sqlite3\n",
    "\n",
    "# Check the contents of the table stored in the SQLite database\n",
    "\n",
    "# Connect to the SQLite database\n",
    "conn = sqlite3.connect('pokemon_data.db')\n",
    "\n",
    "# Query the contents of the table\n",
    "query = \"SELECT * FROM pokemon_table\"\n",
    "df = pd.read_sql(query, conn)\n",
    "\n",
    "# Close the database connection\n",
    "conn.close()\n",
    "\n",
    "# Print the DataFrame\n",
    "print(df)"
   ]
  },
  {
   "cell_type": "code",
   "execution_count": null,
   "id": "910f782b",
   "metadata": {},
   "outputs": [],
   "source": []
  }
 ],
 "metadata": {
  "kernelspec": {
   "display_name": "Python 3 (ipykernel)",
   "language": "python",
   "name": "python3"
  },
  "language_info": {
   "codemirror_mode": {
    "name": "ipython",
    "version": 3
   },
   "file_extension": ".py",
   "mimetype": "text/x-python",
   "name": "python",
   "nbconvert_exporter": "python",
   "pygments_lexer": "ipython3",
   "version": "3.11.3"
  }
 },
 "nbformat": 4,
 "nbformat_minor": 5
}
